{
  "nbformat": 4,
  "nbformat_minor": 0,
  "metadata": {
    "colab": {
      "provenance": []
    },
    "kernelspec": {
      "name": "python3",
      "display_name": "Python 3"
    },
    "language_info": {
      "name": "python"
    }
  },
  "cells": [
    {
      "cell_type": "code",
      "source": [
        "!pip install beautifulsoup4"
      ],
      "metadata": {
        "colab": {
          "base_uri": "https://localhost:8080/"
        },
        "id": "Kq1snVna0ews",
        "outputId": "4a80cee9-4910-4057-a06b-2f31f2cff89f"
      },
      "execution_count": 48,
      "outputs": [
        {
          "output_type": "stream",
          "name": "stdout",
          "text": [
            "Requirement already satisfied: beautifulsoup4 in /usr/local/lib/python3.10/dist-packages (4.12.3)\n",
            "Requirement already satisfied: soupsieve>1.2 in /usr/local/lib/python3.10/dist-packages (from beautifulsoup4) (2.6)\n"
          ]
        }
      ]
    },
    {
      "cell_type": "code",
      "execution_count": 49,
      "metadata": {
        "id": "8or6092uzjul"
      },
      "outputs": [],
      "source": [
        "import requests\n",
        "from bs4 import BeautifulSoup\n",
        "import re\n",
        "\n",
        "def scrape_p_tags(url):\n",
        "    try:\n",
        "        # Make the GET request to fetch the HTML content\n",
        "        response = requests.get(url)\n",
        "\n",
        "        # Raise an error if the request was unsuccessful\n",
        "        response.raise_for_status()\n",
        "\n",
        "        # Parse the HTML content using BeautifulSoup\n",
        "        soup = BeautifulSoup(response.text, 'html.parser')\n",
        "\n",
        "        # Find all <p> tags in the body of the page\n",
        "        p_tags = soup.find_all('p')\n",
        "\n",
        "        # Extract and clean the text from each <p> tag\n",
        "        cleaned_paragraphs = []\n",
        "        for p in p_tags:\n",
        "            # Extract text\n",
        "            text = p.get_text()\n",
        "\n",
        "            # Remove special characters, keeping only alphanumeric and spaces\n",
        "            text = re.sub(r'[^\\w\\s]', ' ', text)\n",
        "\n",
        "            # Replace multiple spaces, newlines, and tabs with a single space\n",
        "            text = re.sub(r'\\s+', ' ', text)\n",
        "\n",
        "            # Strip leading/trailing spaces\n",
        "            cleaned_paragraphs.append(text.strip())\n",
        "\n",
        "        return cleaned_paragraphs\n",
        "\n",
        "    except Exception as e:\n",
        "        return f\"An error occurred: {e}\""
      ]
    },
    {
      "cell_type": "code",
      "source": [
        "paragraphs = scrape_p_tags(\"https://www.gamespot.com/reviews/diablo-4-vessel-of-hatred-review-piercing-the-veil/1900-6418298/\")\n",
        "len(paragraphs)"
      ],
      "metadata": {
        "colab": {
          "base_uri": "https://localhost:8080/"
        },
        "id": "NPIeB2hbznA8",
        "outputId": "0c46d17d-7bf6-4a76-f9fd-b05681ceea3e"
      },
      "execution_count": 50,
      "outputs": [
        {
          "output_type": "execute_result",
          "data": {
            "text/plain": [
              "19"
            ]
          },
          "metadata": {},
          "execution_count": 50
        }
      ]
    },
    {
      "cell_type": "code",
      "source": [
        "# Extract the first item (title) from the 'paragraphs' list\n",
        "title = paragraphs[0]\n",
        "\n",
        "# Extract the second item (credit) from the 'paragraphs' list\n",
        "credit = paragraphs[1]\n",
        "\n",
        "print(\"Title : \", title)\n",
        "print(\"Credit: \", credit)"
      ],
      "metadata": {
        "colab": {
          "base_uri": "https://localhost:8080/"
        },
        "id": "Sfd1N1cL1qJn",
        "outputId": "ee9edc82-ed0c-4eb8-ac46-ad92abbda985"
      },
      "execution_count": 51,
      "outputs": [
        {
          "output_type": "stream",
          "name": "stdout",
          "text": [
            "Title :  The Vessel of Hatred expansion meaningfully expands on the content offered by Diablo 4 with the game s most exciting class and captivating spins on the dungeon crawling formula\n",
            "Credit:  By Alessandro Barbosa on October 4 2024 at 9 00AM PDT\n"
          ]
        }
      ]
    },
    {
      "cell_type": "code",
      "source": [
        "# Remove the first two elements using list slicing\n",
        "paragraphs = paragraphs[2:]\n",
        "len(paragraphs)"
      ],
      "metadata": {
        "colab": {
          "base_uri": "https://localhost:8080/"
        },
        "id": "DKhGKuoJ3Cpl",
        "outputId": "4e86227c-17f7-4438-9a55-37ec10c0cbd5"
      },
      "execution_count": 52,
      "outputs": [
        {
          "output_type": "execute_result",
          "data": {
            "text/plain": [
              "17"
            ]
          },
          "metadata": {},
          "execution_count": 52
        }
      ]
    },
    {
      "cell_type": "code",
      "source": [
        "paragraphs[0]"
      ],
      "metadata": {
        "colab": {
          "base_uri": "https://localhost:8080/",
          "height": 89
        },
        "id": "tL_1zQJn388B",
        "outputId": "37d79c9d-aa24-4f34-c0e5-cddedda15583"
      },
      "execution_count": 53,
      "outputs": [
        {
          "output_type": "execute_result",
          "data": {
            "text/plain": [
              "'Unlike the contentious launch of its predecessor Diablo 4 arrived last year with a reasonably strong foundation that Blizzard has nurtured thoughtfully in the months since giving its first expansion much less heavy lifting to do in the hearts and minds department Diablo 4 doesn t necessarily require an overhaul but that s what it feels like it s getting next to its biggest content addition yet That means you don t have to own Vessel of Hatred to enjoy some of the most exciting changes arriving alongside it but without it you would be missing out on the game s most dynamic class yet which makes Vessel of Hatred a blast to play'"
            ],
            "application/vnd.google.colaboratory.intrinsic+json": {
              "type": "string"
            }
          },
          "metadata": {},
          "execution_count": 53
        }
      ]
    }
  ]
}